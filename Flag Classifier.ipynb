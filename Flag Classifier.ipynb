{
 "cells": [
  {
   "cell_type": "code",
   "execution_count": 1,
   "metadata": {},
   "outputs": [],
   "source": [
    "import sklearn.svm as svm\n",
    "from os import listdir\n",
    "import os\n",
    "from os.path import isfile, join\n",
    "from bs4 import BeautifulSoup as bs\n",
    "import urllib\n",
    "import pandas as pd\n",
    "import matplotlib.pyplot as plt\n",
    "import matplotlib.image as mpimg\n",
    "import glob\n",
    "import os\n",
    "import cv2\n",
    "import numpy as np\n",
    "from sklearn import model_selection, preprocessing, neighbors\n",
    "import collections\n",
    "\n",
    "img_dimension = 100"
   ]
  },
  {
   "cell_type": "code",
   "execution_count": 2,
   "metadata": {},
   "outputs": [
    {
     "name": "stdout",
     "output_type": "stream",
     "text": [
      "['/Users/rohitneppalli/Downloads/Flags/AA-flag.png', '/Users/rohitneppalli/Downloads/Flags/AC-flag.png', '/Users/rohitneppalli/Downloads/Flags/AE-flag.png', '/Users/rohitneppalli/Downloads/Flags/AF-flag.png', '/Users/rohitneppalli/Downloads/Flags/AG-flag.png', '/Users/rohitneppalli/Downloads/Flags/AJ-flag.png', '/Users/rohitneppalli/Downloads/Flags/AL-flag.png', '/Users/rohitneppalli/Downloads/Flags/AM-flag.png', '/Users/rohitneppalli/Downloads/Flags/AN-flag.png', '/Users/rohitneppalli/Downloads/Flags/AO-flag.png', '/Users/rohitneppalli/Downloads/Flags/AQ-flag.png', '/Users/rohitneppalli/Downloads/Flags/AR-flag.png', '/Users/rohitneppalli/Downloads/Flags/AS-flag.png', '/Users/rohitneppalli/Downloads/Flags/AT-flag.png', '/Users/rohitneppalli/Downloads/Flags/AU-flag.png', '/Users/rohitneppalli/Downloads/Flags/AV-flag.png', '/Users/rohitneppalli/Downloads/Flags/AX-flag.png', '/Users/rohitneppalli/Downloads/Flags/BA-flag.png', '/Users/rohitneppalli/Downloads/Flags/BB-flag.png', '/Users/rohitneppalli/Downloads/Flags/BC-flag.png', '/Users/rohitneppalli/Downloads/Flags/BD-flag.png', '/Users/rohitneppalli/Downloads/Flags/BE-flag.png', '/Users/rohitneppalli/Downloads/Flags/BF-flag.png', '/Users/rohitneppalli/Downloads/Flags/BG-flag.png', '/Users/rohitneppalli/Downloads/Flags/BH-flag.png', '/Users/rohitneppalli/Downloads/Flags/BK-flag.png', '/Users/rohitneppalli/Downloads/Flags/BL-flag.png', '/Users/rohitneppalli/Downloads/Flags/BM-flag.png', '/Users/rohitneppalli/Downloads/Flags/BN-flag.png', '/Users/rohitneppalli/Downloads/Flags/BO-flag.png', '/Users/rohitneppalli/Downloads/Flags/BP-flag.png', '/Users/rohitneppalli/Downloads/Flags/BQ-flag.png', '/Users/rohitneppalli/Downloads/Flags/BR-flag.png', '/Users/rohitneppalli/Downloads/Flags/BT-flag.png', '/Users/rohitneppalli/Downloads/Flags/BU-flag.png', '/Users/rohitneppalli/Downloads/Flags/BV-flag.png', '/Users/rohitneppalli/Downloads/Flags/BX-flag.png', '/Users/rohitneppalli/Downloads/Flags/BY-flag.png', '/Users/rohitneppalli/Downloads/Flags/CA-flag.png', '/Users/rohitneppalli/Downloads/Flags/CB-flag.png', '/Users/rohitneppalli/Downloads/Flags/CD-flag.png', '/Users/rohitneppalli/Downloads/Flags/CE-flag.png', '/Users/rohitneppalli/Downloads/Flags/CF-flag.png', '/Users/rohitneppalli/Downloads/Flags/CG-flag.png', '/Users/rohitneppalli/Downloads/Flags/CH-flag.png', '/Users/rohitneppalli/Downloads/Flags/CI-flag.png', '/Users/rohitneppalli/Downloads/Flags/CJ-flag.png', '/Users/rohitneppalli/Downloads/Flags/CK-flag.png', '/Users/rohitneppalli/Downloads/Flags/CM-flag.png', '/Users/rohitneppalli/Downloads/Flags/CN-flag.png', '/Users/rohitneppalli/Downloads/Flags/CO-flag.png', '/Users/rohitneppalli/Downloads/Flags/CQ-flag.png', '/Users/rohitneppalli/Downloads/Flags/CR-flag.png', '/Users/rohitneppalli/Downloads/Flags/CS-flag.png', '/Users/rohitneppalli/Downloads/Flags/CT-flag.png', '/Users/rohitneppalli/Downloads/Flags/CU-flag.png', '/Users/rohitneppalli/Downloads/Flags/CV-flag.png', '/Users/rohitneppalli/Downloads/Flags/CW-flag.png', '/Users/rohitneppalli/Downloads/Flags/CY-flag.png', '/Users/rohitneppalli/Downloads/Flags/DA-flag.png', '/Users/rohitneppalli/Downloads/Flags/DJ-flag.png', '/Users/rohitneppalli/Downloads/Flags/DO-flag.png', '/Users/rohitneppalli/Downloads/Flags/DR-flag.png', '/Users/rohitneppalli/Downloads/Flags/DX-flag.png', '/Users/rohitneppalli/Downloads/Flags/EC-flag.png', '/Users/rohitneppalli/Downloads/Flags/EE-flag.png', '/Users/rohitneppalli/Downloads/Flags/EG-flag.png', '/Users/rohitneppalli/Downloads/Flags/EI-flag.png', '/Users/rohitneppalli/Downloads/Flags/EK-flag.png', '/Users/rohitneppalli/Downloads/Flags/EN-flag.png', '/Users/rohitneppalli/Downloads/Flags/ER-flag.png', '/Users/rohitneppalli/Downloads/Flags/ES-flag.png', '/Users/rohitneppalli/Downloads/Flags/ET-flag.png', '/Users/rohitneppalli/Downloads/Flags/EZ-flag.png', '/Users/rohitneppalli/Downloads/Flags/FI-flag.png', '/Users/rohitneppalli/Downloads/Flags/FJ-flag.png', '/Users/rohitneppalli/Downloads/Flags/FK-flag.png', '/Users/rohitneppalli/Downloads/Flags/FM-flag.png', '/Users/rohitneppalli/Downloads/Flags/FO-flag.png', '/Users/rohitneppalli/Downloads/Flags/FP-flag.png', '/Users/rohitneppalli/Downloads/Flags/FR-flag.png', '/Users/rohitneppalli/Downloads/Flags/FS-flag.png', '/Users/rohitneppalli/Downloads/Flags/GA-flag.png', '/Users/rohitneppalli/Downloads/Flags/GB-flag.png', '/Users/rohitneppalli/Downloads/Flags/GG-flag.png', '/Users/rohitneppalli/Downloads/Flags/GH-flag.png', '/Users/rohitneppalli/Downloads/Flags/GI-flag.png', '/Users/rohitneppalli/Downloads/Flags/GJ-flag.png', '/Users/rohitneppalli/Downloads/Flags/GK-flag.png', '/Users/rohitneppalli/Downloads/Flags/GL-flag.png', '/Users/rohitneppalli/Downloads/Flags/GM-flag.png', '/Users/rohitneppalli/Downloads/Flags/GQ-flag.png', '/Users/rohitneppalli/Downloads/Flags/GR-flag.png', '/Users/rohitneppalli/Downloads/Flags/GT-flag.png', '/Users/rohitneppalli/Downloads/Flags/GV-flag.png', '/Users/rohitneppalli/Downloads/Flags/GY-flag.png', '/Users/rohitneppalli/Downloads/Flags/HA-flag.png', '/Users/rohitneppalli/Downloads/Flags/HK-flag.png', '/Users/rohitneppalli/Downloads/Flags/HM-flag.png', '/Users/rohitneppalli/Downloads/Flags/HO-flag.png', '/Users/rohitneppalli/Downloads/Flags/HR-flag.png', '/Users/rohitneppalli/Downloads/Flags/HU-flag.png', '/Users/rohitneppalli/Downloads/Flags/IC-flag.png', '/Users/rohitneppalli/Downloads/Flags/ID-flag.png', '/Users/rohitneppalli/Downloads/Flags/IM-flag.png', '/Users/rohitneppalli/Downloads/Flags/IN-flag.png', '/Users/rohitneppalli/Downloads/Flags/IO-flag.png', '/Users/rohitneppalli/Downloads/Flags/IP-flag.png', '/Users/rohitneppalli/Downloads/Flags/IR-flag.png', '/Users/rohitneppalli/Downloads/Flags/IS-flag.png', '/Users/rohitneppalli/Downloads/Flags/IT-flag.png', '/Users/rohitneppalli/Downloads/Flags/IV-flag.png', '/Users/rohitneppalli/Downloads/Flags/IZ-flag.png', '/Users/rohitneppalli/Downloads/Flags/JA-flag.png', '/Users/rohitneppalli/Downloads/Flags/JE-flag.png', '/Users/rohitneppalli/Downloads/Flags/JM-flag.png', '/Users/rohitneppalli/Downloads/Flags/JN-flag.png', '/Users/rohitneppalli/Downloads/Flags/JO-flag.png', '/Users/rohitneppalli/Downloads/Flags/KE-flag.png', '/Users/rohitneppalli/Downloads/Flags/KG-flag.png', '/Users/rohitneppalli/Downloads/Flags/KN-flag.png', '/Users/rohitneppalli/Downloads/Flags/KR-flag.png', '/Users/rohitneppalli/Downloads/Flags/KS-flag.png', '/Users/rohitneppalli/Downloads/Flags/KT-flag.png', '/Users/rohitneppalli/Downloads/Flags/KU-flag.png', '/Users/rohitneppalli/Downloads/Flags/KV-flag.png', '/Users/rohitneppalli/Downloads/Flags/KZ-flag.png', '/Users/rohitneppalli/Downloads/Flags/LA-flag.png', '/Users/rohitneppalli/Downloads/Flags/LE-flag.png', '/Users/rohitneppalli/Downloads/Flags/LG-flag.png', '/Users/rohitneppalli/Downloads/Flags/LH-flag.png', '/Users/rohitneppalli/Downloads/Flags/LI-flag.png', '/Users/rohitneppalli/Downloads/Flags/LO-flag.png', '/Users/rohitneppalli/Downloads/Flags/LS-flag.png', '/Users/rohitneppalli/Downloads/Flags/LT-flag.png', '/Users/rohitneppalli/Downloads/Flags/LU-flag.png', '/Users/rohitneppalli/Downloads/Flags/LY-flag.png', '/Users/rohitneppalli/Downloads/Flags/MA-flag.png', '/Users/rohitneppalli/Downloads/Flags/MC-flag.png', '/Users/rohitneppalli/Downloads/Flags/MD-flag.png', '/Users/rohitneppalli/Downloads/Flags/MG-flag.png', '/Users/rohitneppalli/Downloads/Flags/MH-flag.png', '/Users/rohitneppalli/Downloads/Flags/MI-flag.png', '/Users/rohitneppalli/Downloads/Flags/MJ-flag.png', '/Users/rohitneppalli/Downloads/Flags/MK-flag.png', '/Users/rohitneppalli/Downloads/Flags/ML-flag.png', '/Users/rohitneppalli/Downloads/Flags/MN-flag.png', '/Users/rohitneppalli/Downloads/Flags/MO-flag.png', '/Users/rohitneppalli/Downloads/Flags/MP-flag.png', '/Users/rohitneppalli/Downloads/Flags/MR-flag.png', '/Users/rohitneppalli/Downloads/Flags/MT-flag.png', '/Users/rohitneppalli/Downloads/Flags/MU-flag.png', '/Users/rohitneppalli/Downloads/Flags/MV-flag.png', '/Users/rohitneppalli/Downloads/Flags/MX-flag.png', '/Users/rohitneppalli/Downloads/Flags/MY-flag.png', '/Users/rohitneppalli/Downloads/Flags/MZ-flag.png', '/Users/rohitneppalli/Downloads/Flags/NC-flag.png', '/Users/rohitneppalli/Downloads/Flags/NE-flag.png', '/Users/rohitneppalli/Downloads/Flags/NF-flag.png', '/Users/rohitneppalli/Downloads/Flags/NG-flag.png', '/Users/rohitneppalli/Downloads/Flags/NH-flag.png', '/Users/rohitneppalli/Downloads/Flags/NI-flag.png', '/Users/rohitneppalli/Downloads/Flags/NL-flag.png', '/Users/rohitneppalli/Downloads/Flags/NN-flag.png', '/Users/rohitneppalli/Downloads/Flags/NO-flag.png', '/Users/rohitneppalli/Downloads/Flags/NP-flag.png', '/Users/rohitneppalli/Downloads/Flags/NR-flag.png', '/Users/rohitneppalli/Downloads/Flags/NS-flag.png', '/Users/rohitneppalli/Downloads/Flags/NU-flag.png', '/Users/rohitneppalli/Downloads/Flags/NZ-flag.png', '/Users/rohitneppalli/Downloads/Flags/OD-flag.png', '/Users/rohitneppalli/Downloads/Flags/PA-flag.png', '/Users/rohitneppalli/Downloads/Flags/PC-flag.png', '/Users/rohitneppalli/Downloads/Flags/PE-flag.png', '/Users/rohitneppalli/Downloads/Flags/PK-flag.png', '/Users/rohitneppalli/Downloads/Flags/PL-flag.png', '/Users/rohitneppalli/Downloads/Flags/PM-flag.png', '/Users/rohitneppalli/Downloads/Flags/PO-flag.png', '/Users/rohitneppalli/Downloads/Flags/PP-flag.png', '/Users/rohitneppalli/Downloads/Flags/PS-flag.png', '/Users/rohitneppalli/Downloads/Flags/PU-flag.png', '/Users/rohitneppalli/Downloads/Flags/QA-flag.png', '/Users/rohitneppalli/Downloads/Flags/RI-flag.png', '/Users/rohitneppalli/Downloads/Flags/RM-flag.png', '/Users/rohitneppalli/Downloads/Flags/RN-flag.png', '/Users/rohitneppalli/Downloads/Flags/RO-flag.png', '/Users/rohitneppalli/Downloads/Flags/RP-flag.png', '/Users/rohitneppalli/Downloads/Flags/RQ-flag.png', '/Users/rohitneppalli/Downloads/Flags/RS-flag.png', '/Users/rohitneppalli/Downloads/Flags/RW-flag.png', '/Users/rohitneppalli/Downloads/Flags/SA-flag.png', '/Users/rohitneppalli/Downloads/Flags/SB-flag.png', '/Users/rohitneppalli/Downloads/Flags/SC-flag.png', '/Users/rohitneppalli/Downloads/Flags/SE-flag.png', '/Users/rohitneppalli/Downloads/Flags/SF-flag.png', '/Users/rohitneppalli/Downloads/Flags/SG-flag.png', '/Users/rohitneppalli/Downloads/Flags/SH-flag.png', '/Users/rohitneppalli/Downloads/Flags/SI-flag.png', '/Users/rohitneppalli/Downloads/Flags/SL-flag.png', '/Users/rohitneppalli/Downloads/Flags/SM-flag.png', '/Users/rohitneppalli/Downloads/Flags/SN-flag.png', '/Users/rohitneppalli/Downloads/Flags/SO-flag.png', '/Users/rohitneppalli/Downloads/Flags/SP-flag.png', '/Users/rohitneppalli/Downloads/Flags/ST-flag.png', '/Users/rohitneppalli/Downloads/Flags/SU-flag.png', '/Users/rohitneppalli/Downloads/Flags/SV-flag.png', '/Users/rohitneppalli/Downloads/Flags/SW-flag.png', '/Users/rohitneppalli/Downloads/Flags/SX-flag.png', '/Users/rohitneppalli/Downloads/Flags/SY-flag.png', '/Users/rohitneppalli/Downloads/Flags/SZ-flag.png', '/Users/rohitneppalli/Downloads/Flags/TB-flag.png', '/Users/rohitneppalli/Downloads/Flags/TD-flag.png', '/Users/rohitneppalli/Downloads/Flags/TH-flag.png', '/Users/rohitneppalli/Downloads/Flags/TI-flag.png', '/Users/rohitneppalli/Downloads/Flags/TK-flag.png', '/Users/rohitneppalli/Downloads/Flags/TL-flag.png', '/Users/rohitneppalli/Downloads/Flags/TN-flag.png', '/Users/rohitneppalli/Downloads/Flags/TO-flag.png', '/Users/rohitneppalli/Downloads/Flags/TP-flag.png', '/Users/rohitneppalli/Downloads/Flags/TS-flag.png', '/Users/rohitneppalli/Downloads/Flags/TT-flag.png', '/Users/rohitneppalli/Downloads/Flags/TU-flag.png', '/Users/rohitneppalli/Downloads/Flags/TV-flag.png', '/Users/rohitneppalli/Downloads/Flags/TW-flag.png', '/Users/rohitneppalli/Downloads/Flags/TX-flag.png', '/Users/rohitneppalli/Downloads/Flags/TZ-flag.png', '/Users/rohitneppalli/Downloads/Flags/UC-flag.png', '/Users/rohitneppalli/Downloads/Flags/UG-flag.png', '/Users/rohitneppalli/Downloads/Flags/UK-flag.png', '/Users/rohitneppalli/Downloads/Flags/UM-flag.png', '/Users/rohitneppalli/Downloads/Flags/UP-flag.png', '/Users/rohitneppalli/Downloads/Flags/US-flag.png', '/Users/rohitneppalli/Downloads/Flags/UV-flag.png', '/Users/rohitneppalli/Downloads/Flags/UY-flag.png', '/Users/rohitneppalli/Downloads/Flags/UZ-flag.png', '/Users/rohitneppalli/Downloads/Flags/VC-flag.png', '/Users/rohitneppalli/Downloads/Flags/VE-flag.png', '/Users/rohitneppalli/Downloads/Flags/VI-flag.png', '/Users/rohitneppalli/Downloads/Flags/VM-flag.png', '/Users/rohitneppalli/Downloads/Flags/VQ-flag.png', '/Users/rohitneppalli/Downloads/Flags/VT-flag.png', '/Users/rohitneppalli/Downloads/Flags/WA-flag.png', '/Users/rohitneppalli/Downloads/Flags/WF-flag.png', '/Users/rohitneppalli/Downloads/Flags/WI-flag.png', '/Users/rohitneppalli/Downloads/Flags/WQ-flag.png', '/Users/rohitneppalli/Downloads/Flags/WS-flag.png', '/Users/rohitneppalli/Downloads/Flags/WZ-flag.png', '/Users/rohitneppalli/Downloads/Flags/YM-flag.png', '/Users/rohitneppalli/Downloads/Flags/ZA-flag.png', '/Users/rohitneppalli/Downloads/Flags/ZI-flag.png']\n"
     ]
    },
    {
     "data": {
      "image/png": "[encoded data removed]",
      "text/plain": [
       "<matplotlib.figure.Figure at 0x10f397f98>"
      ]
     },
     "metadata": {},
     "output_type": "display_data"
    },
    {
     "name": "stdout",
     "output_type": "stream",
     "text": [
      "(100, 100)\n",
      "10000\n"
     ]
    }
   ],
   "source": [
    "mypath = \"/Users/rohitneppalli/Downloads/Flags\"\n",
    "my_dir = sorted(listdir(mypath))\n",
    "onlyfiles = sorted([join(mypath,f) for f in my_dir if isfile(join(mypath, f)) and \".png\" in str(f)])\n",
    "print(onlyfiles)\n",
    "images = [np.array(cv2.resize(mpimg.imread(join(mypath, file), 0), (img_dimension, img_dimension)))[\n",
    ":, :, 0] for file in onlyfiles]  # screws up image color, but down to 2 dimensions\n",
    "plt.imshow(images[0])\n",
    "plt.show()\n",
    "print(np.array(images[0]).shape)\n",
    "print(np.array(images[0]).size)"
   ]
  },
  {
   "cell_type": "code",
   "execution_count": 3,
   "metadata": {},
   "outputs": [
    {
     "name": "stdout",
     "output_type": "stream",
     "text": [
      "OrderedDict([('AA', 'Aruba'), ('AC', 'Antigua and Barbuda'), ('AE', 'United Arab Emirates'), ('AF', 'Afghanistan'), ('AG', 'Algeria'), ('AJ', 'Azerbaijan'), ('AL', 'Albania'), ('AM', 'Armenia'), ('AN', 'Andorra'), ('AO', 'Angola'), ('AQ', 'American Samoa'), ('AR', 'Argentina'), ('AS', 'Australia'), ('AT', 'Ashmore and Cartier Islands'), ('AU', 'Austria'), ('AV', 'Anguilla'), ('AX', 'Akrotiri'), ('BA', 'Bahrain'), ('BB', 'Barbados'), ('BC', 'Botswana'), ('BD', 'Bermuda'), ('BE', 'Belgium'), ('BF', 'Bahamas, The'), ('BG', 'Bangladesh'), ('BH', 'Belize'), ('BK', 'Bosnia and Herzegovina'), ('BL', 'Bolivia'), ('BM', 'Burma'), ('BN', 'Benin'), ('BO', 'Belarus'), ('BP', 'Solomon Islands'), ('BQ', 'Navassa Island'), ('BR', 'Brazil'), ('BT', 'Bhutan'), ('BU', 'Bulgaria'), ('BV', 'Bouvet Island'), ('BX', 'Brunei'), ('BY', 'Burundi'), ('CA', 'Canada'), ('CB', 'Cambodia'), ('CD', 'Chad'), ('CE', 'Sri Lanka'), ('CF', 'Congo, Republic of the'), ('CG', 'Congo, Democratic Republic of the'), ('CH', 'China'), ('CI', 'Chile'), ('CJ', 'Cayman Islands'), ('CK', 'Cocos (Keeling) Islands'), ('CM', 'Cameroon'), ('CN', 'Comoros'), ('CO', 'Colombia'), ('CQ', 'Northern Mariana Islands'), ('CR', 'Coral Sea Islands'), ('CS', 'Costa Rica'), ('CT', 'Central African Republic'), ('CU', 'Cuba'), ('CV', 'Cabo Verde'), ('CW', 'Cook Islands'), ('CY', 'Cyprus'), ('DA', 'Denmark'), ('DJ', 'Djibouti'), ('DO', 'Dominica'), ('DR', 'Dominican Republic'), ('DX', 'Dhekelia'), ('EC', 'Ecuador'), ('EE', 'European Union'), ('EG', 'Egypt'), ('EI', 'Ireland'), ('EK', 'Equatorial Guinea'), ('EN', 'Estonia'), ('ER', 'Eritrea'), ('ES', 'El Salvador'), ('ET', 'Ethiopia'), ('EZ', 'Czechia'), ('FI', 'Finland'), ('FJ', 'Fiji'), ('FK', 'Falkland Islands (Islas Malvinas)'), ('FM', 'Micronesia, Federated States of'), ('FO', 'Faroe Islands'), ('FP', 'French Polynesia'), ('FR', 'France'), ('FS', 'French Southern and Antarctic Lands'), ('GA', 'Gambia, The'), ('GB', 'Gabon'), ('GG', 'Georgia'), ('GH', 'Ghana'), ('GI', 'Gibraltar'), ('GJ', 'Grenada'), ('GK', 'Guernsey'), ('GL', 'Greenland'), ('GM', 'Germany'), ('GQ', 'Guam'), ('GR', 'Greece'), ('GT', 'Guatemala'), ('GV', 'Guinea'), ('GY', 'Guyana'), ('HA', 'Haiti'), ('HK', 'Hong Kong'), ('HM', 'Heard Island and McDonald Islands'), ('HO', 'Honduras'), ('HR', 'Croatia'), ('HU', 'Hungary'), ('IC', 'Iceland'), ('ID', 'Indonesia'), ('IM', 'Isle of Man'), ('IN', 'India'), ('IO', 'British Indian Ocean Territory'), ('IP', 'Clipperton Island'), ('IR', 'Iran'), ('IS', 'Israel'), ('IT', 'Italy'), ('IV', \"Cote d'Ivoire\"), ('IZ', 'Iraq'), ('JA', 'Japan'), ('JE', 'Jersey'), ('JM', 'Jamaica'), ('JN', 'Jan Mayen'), ('JO', 'Jordan'), ('KE', 'Kenya'), ('KG', 'Kyrgyzstan'), ('KN', 'Korea, North'), ('KR', 'Kiribati'), ('KS', 'Korea, South'), ('KT', 'Christmas Island'), ('KU', 'Kuwait'), ('KV', 'Kosovo'), ('KZ', 'Kazakhstan'), ('LA', 'Laos'), ('LE', 'Lebanon'), ('LG', 'Latvia'), ('LH', 'Lithuania'), ('LI', 'Liberia'), ('LO', 'Slovakia'), ('LS', 'Liechtenstein'), ('LT', 'Lesotho'), ('LU', 'Luxembourg'), ('LY', 'Libya'), ('MA', 'Madagascar'), ('MC', 'Macau'), ('MD', 'Moldova'), ('MG', 'Mongolia'), ('MH', 'Montserrat'), ('MI', 'Malawi'), ('MJ', 'Montenegro'), ('MK', 'Macedonia'), ('ML', 'Mali'), ('MN', 'Monaco'), ('MO', 'Morocco'), ('MP', 'Mauritius'), ('MR', 'Mauritania'), ('MT', 'Malta'), ('MU', 'Oman'), ('MV', 'Maldives'), ('MX', 'Mexico'), ('MY', 'Malaysia'), ('MZ', 'Mozambique'), ('NC', 'New Caledonia'), ('NE', 'Niue'), ('NF', 'Norfolk Island'), ('NG', 'Niger'), ('NH', 'Vanuatu'), ('NI', 'Nigeria'), ('NL', 'Netherlands'), ('NN', 'Sint Maarten'), ('NO', 'Norway'), ('NP', 'Nepal'), ('NR', 'Nauru'), ('NS', 'Suriname'), ('NU', 'Nicaragua'), ('NZ', 'New Zealand'), ('OD', 'South Sudan'), ('PA', 'Paraguay'), ('PC', 'Pitcairn Islands'), ('PE', 'Peru'), ('PK', 'Pakistan'), ('PL', 'Poland'), ('PM', 'Panama'), ('PO', 'Portugal'), ('PP', 'Papua New Guinea'), ('PS', 'Palau'), ('PU', 'Guinea-Bissau'), ('QA', 'Qatar'), ('RI', 'Serbia'), ('RM', 'Marshall Islands'), ('RN', 'Saint Martin'), ('RO', 'Romania'), ('RP', 'Philippines'), ('RQ', 'Puerto Rico'), ('RS', 'Russia'), ('RW', 'Rwanda'), ('SA', 'Saudi Arabia'), ('SB', 'Saint Pierre and Miquelon'), ('SC', 'Saint Kitts and Nevis'), ('SE', 'Seychelles'), ('SF', 'South Africa'), ('SG', 'Senegal'), ('SH', 'Saint Helena, Ascension, and Tristan da Cunha'), ('SI', 'Slovenia'), ('SL', 'Sierra Leone'), ('SM', 'San Marino'), ('SN', 'Singapore'), ('SO', 'Somalia'), ('SP', 'Spain'), ('ST', 'Saint Lucia'), ('SU', 'Sudan'), ('SV', 'Svalbard'), ('SW', 'Sweden'), ('SX', 'South Georgia and South Sandwich Islands'), ('SY', 'Syria'), ('SZ', 'Switzerland'), ('TB', 'Saint Barthelemy'), ('TD', 'Trinidad and Tobago'), ('TH', 'Thailand'), ('TI', 'Tajikistan'), ('TK', 'Turks and Caicos Islands'), ('TL', 'Tokelau'), ('TN', 'Tonga'), ('TO', 'Togo'), ('TP', 'Sao Tome and Principe'), ('TS', 'Tunisia'), ('TT', 'Timor-Leste'), ('TU', 'Turkey'), ('TV', 'Tuvalu'), ('TW', 'Taiwan'), ('TX', 'Turkmenistan'), ('TZ', 'Tanzania'), ('UC', 'Curacao'), ('UG', 'Uganda'), ('UK', 'United Kingdom'), ('UM', 'United States Pacific Island Wildlife Refuges'), ('UP', 'Ukraine'), ('US', 'United States'), ('UV', 'Burkina Faso'), ('UY', 'Uruguay'), ('UZ', 'Uzbekistan'), ('VC', 'Saint Vincent and the Grenadines'), ('VE', 'Venezuela'), ('VI', 'British Virgin Islands'), ('VM', 'Vietnam'), ('VQ', 'Virgin Islands'), ('VT', 'Holy See (Vatican City)'), ('WA', 'Namibia'), ('WF', 'Wallis and Futuna'), ('WI', 'Western Sahara'), ('WQ', 'Wake Island'), ('WS', 'Samoa'), ('WZ', 'Eswatini'), ('YM', 'Yemen'), ('ZA', 'Zambia'), ('ZI', 'Zimbabwe')])\n"
     ]
    }
   ],
   "source": [
    "html = bs(urllib.request.urlopen(\"https://www.cia.gov/library/publications/the-world-factbook/docs/flagsoftheworld.html\"), \"lxml\")\n",
    "\n",
    "div_names = [div.getText() for div in html.find_all(\"div\", attrs={\"class\": \"flag-description\"})]\n",
    "flags = [div.find(\"img\")[\"src\"][-11:-9] for div in html.find_all(\"div\", attrs={\"class\": \"flag-image\"})]\n",
    "map = {flags[i]: div_names[i] for i in range(len(flags))}\n",
    "map = collections.OrderedDict(sorted(map.items()))\n",
    "print(map)"
   ]
  },
  {
   "cell_type": "code",
   "execution_count": 4,
   "metadata": {},
   "outputs": [
    {
     "name": "stdout",
     "output_type": "stream",
     "text": [
      "                Country   Pixel 1   Pixel 2   Pixel 3   Pixel 4   Pixel 5  \\\n",
      "0                 Aruba -0.871815 -0.833430 -0.830503 -0.847502 -0.837804   \n",
      "1   Antigua and Barbuda  0.166520 -1.745098 -1.731087 -1.751298 -1.739147   \n",
      "2  United Arab Emirates  0.492509  0.504472  0.491134  0.478847  0.484946   \n",
      "3           Afghanistan -1.801486 -1.745098 -1.731087 -1.751298 -1.739147   \n",
      "4               Algeria -0.714857 -0.857110 -0.853894 -0.870977 -0.861216   \n",
      "\n",
      "    Pixel 6   Pixel 7   Pixel 8   Pixel 9     ...       Pixel 9991  \\\n",
      "0 -0.808813 -0.787923 -0.681034 -0.697826     ...        -0.841342   \n",
      "1 -1.706871 -1.686793 -1.573472 -1.593489     ...         0.518611   \n",
      "2  0.509118  0.531197  0.628647  0.616588     ...        -1.768035   \n",
      "3 -1.706871 -1.686793 -1.573472 -1.593489     ...        -1.563441   \n",
      "4 -0.832139 -0.811271 -0.704214 -0.721090     ...         1.048151   \n",
      "\n",
      "   Pixel 9992  Pixel 9993  Pixel 9994  Pixel 9995  Pixel 9996  Pixel 9997  \\\n",
      "0   -0.841843   -0.841607   -0.847989   -0.865810   -0.869410   -0.868706   \n",
      "1    0.517987    0.518308    0.511739    0.499173    0.492962    0.493394   \n",
      "2   -1.768452   -1.768274   -1.774529   -1.795931   -1.797752   -1.796863   \n",
      "3   -1.563876   -1.563685   -1.569968   -1.590580   -1.592794   -1.591945   \n",
      "4    1.047478    1.047832    1.041191    1.030671    1.023443    1.023769   \n",
      "\n",
      "   Pixel 9998  Pixel 9999  Pixel 10000  \n",
      "0   -0.869243   -0.869552    -0.891299  \n",
      "1    0.493245    0.488372     0.493315  \n",
      "2   -1.797664   -1.794864    -1.834798  \n",
      "3   -1.592688   -1.590574    -1.626493  \n",
      "4    1.023771    1.017122     0.983444  \n",
      "\n",
      "[5 rows x 10001 columns]\n"
     ]
    }
   ],
   "source": [
    "df = pd.DataFrame({\"Country\": [val for key, val in map.items()]})\n",
    "\n",
    "for i in range(img_dimension**2):\n",
    "    pixels = [images[x][int(i/img_dimension)][i%img_dimension] for x in range(len(images))]\n",
    "    pixels = preprocessing.scale(pixels)\n",
    "    df[\"Pixel \" + str(i + 1)] = pixels\n",
    "print(df.head())"
   ]
  },
  {
   "cell_type": "code",
   "execution_count": 6,
   "metadata": {},
   "outputs": [
    {
     "data": {
      "text/plain": [
       "SVC(C=1000, cache_size=200, class_weight=None, coef0=0.0,\n",
       "  decision_function_shape='ovr', degree=3, gamma=0.001, kernel='rbf',\n",
       "  max_iter=-1, probability=False, random_state=None, shrinking=True,\n",
       "  tol=0.001, verbose=False)"
      ]
     },
     "execution_count": 6,
     "metadata": {},
     "output_type": "execute_result"
    }
   ],
   "source": [
    "model = svm.SVC(gamma=0.001, C=1000)\n",
    "x = df[df.columns.values[1:]]\n",
    "y = df.Country\n",
    "nearest_neighbor = neighbors.KNeighborsClassifier()\n",
    "nearest_neighbor.fit(x, y)\n",
    "model.fit(x, y)"
   ]
  },
  {
   "cell_type": "code",
   "execution_count": 7,
   "metadata": {},
   "outputs": [
    {
     "name": "stdout",
     "output_type": "stream",
     "text": [
      "['Netherlands']\n",
      "['Bolivia']\n"
     ]
    }
   ],
   "source": [
    "img = \"/Users/rohitneppalli/Downloads/eg.png\"\n",
    "img_array = np.array(cv2.resize(mpimg.imread(img, 0), (img_dimension, img_dimension)))[:, :, 0]\n",
    "pixels = [img_array[int(i/img_dimension)][i % img_dimension] for i in range(img_dimension**2)]\n",
    "pixels = np.array(preprocessing.scale(pixels))\n",
    "\n",
    "print(model.predict(pixels.reshape(-1, img_dimension**2)))\n",
    "print(nearest_neighbor.predict(pixels.reshape(-1, img_dimension**2)))"
   ]
  },
  {
   "cell_type": "code",
   "execution_count": null,
   "metadata": {},
   "outputs": [],
   "source": []
  }
 ],
 "metadata": {
  "kernelspec": {
   "display_name": "Python 3",
   "language": "python",
   "name": "python3"
  },
  "language_info": {
   "codemirror_mode": {
    "name": "ipython",
    "version": 3
   },
   "file_extension": ".py",
   "mimetype": "text/x-python",
   "name": "python",
   "nbconvert_exporter": "python",
   "pygments_lexer": "ipython3",
   "version": "3.6.4"
  }
 },
 "nbformat": 4,
 "nbformat_minor": 2
}
