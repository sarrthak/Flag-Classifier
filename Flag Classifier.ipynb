{
 "cells": [
  {
   "cell_type": "code",
   "execution_count": 1,
   "metadata": {},
   "outputs": [],
   "source": [
    "import sklearn.svm as svm\n",
    "from os import listdir\n",
    "import os\n",
    "from os.path import isfile, join\n",
    "from bs4 import BeautifulSoup as bs\n",
    "import urllib\n",
    "import pandas as pd\n",
    "import matplotlib.pyplot as plt\n",
    "import matplotlib.image as mpimg\n",
    "import glob\n",
    "import os\n",
    "import cv2\n",
    "import numpy as np\n",
    "from sklearn import model_selection, preprocessing\n",
    "\n",
    "img_dimension = 100"
   ]
  },
  {
   "cell_type": "code",
   "execution_count": 2,
   "metadata": {},
   "outputs": [
    {
     "data": {
      "image/png": "[encoded data removed]",
      "text/plain": [
       "<matplotlib.figure.Figure at 0x1a17cd9d68>"
      ]
     },
     "metadata": {},
     "output_type": "display_data"
    },
    {
     "name": "stdout",
     "output_type": "stream",
     "text": [
      "250\n",
      "[[ 0  0  0 ... 17 17 17]\n",
      " [ 0  0  0 ... 17 17 17]\n",
      " [ 0  0  0 ... 17 17 17]\n",
      " ...\n",
      " [ 0  0  0 ... 17 17 17]\n",
      " [ 0  0  0 ... 17 17 17]\n",
      " [ 0  0  0 ... 17 17 17]]\n",
      "(100, 100)\n",
      "10000\n"
     ]
    }
   ],
   "source": [
    "mypath = \"/Users/rohitneppalli/Downloads/Flags\"\n",
    "my_dir = sorted(listdir(mypath))\n",
    "onlyfiles = [join(mypath,f) for f in my_dir if isfile(join(mypath, f)) and \".png\" in str(f)]\n",
    "onlyfiles.sort(key=lambda x: os.path.getmtime(join(mypath, x)))\n",
    "images = [np.array(cv2.resize(mpimg.imread(join(mypath, file), 0), (img_dimension, img_dimension)))[\n",
    "    :, :, 0] for file in onlyfiles]  # screws up image color, but down to 2 dimensions\n",
    "plt.imshow(images[100])\n",
    "plt.show()\n",
    "print(len(images))\n",
    "print(images[0])\n",
    "print(np.array(images[0]).shape)\n",
    "print(np.array(images[0]).size)"
   ]
  },
  {
   "cell_type": "code",
   "execution_count": 3,
   "metadata": {},
   "outputs": [
    {
     "name": "stdout",
     "output_type": "stream",
     "text": [
      "['Afghanistan', 'Akrotiri', 'Albania', 'Algeria', 'American Samoa', 'Andorra', 'Angola', 'Anguilla', 'Antigua and Barbuda', 'Argentina', 'Armenia', 'Aruba', 'Ashmore and Cartier Islands', 'Australia', 'Austria', 'Azerbaijan', 'Bahamas, The', 'Bahrain', 'Bangladesh', 'Barbados', 'Belarus', 'Belgium', 'Belize', 'Benin', 'Bermuda', 'Bhutan', 'Bolivia', 'Bosnia and Herzegovina', 'Botswana', 'Bouvet Island', 'Brazil', 'British Indian Ocean Territory', 'British Virgin Islands', 'Brunei', 'Bulgaria', 'Burkina Faso', 'Burma', 'Burundi', 'Cabo Verde', 'Cambodia', 'Cameroon', 'Canada', 'Cayman Islands', 'Central African Republic', 'Chad', 'Chile', 'China', 'Christmas Island', 'Clipperton Island', 'Cocos (Keeling) Islands', 'Colombia', 'Comoros', 'Congo, Democratic Republic of the', 'Congo, Republic of the', 'Cook Islands', 'Coral Sea Islands', 'Costa Rica', \"Cote d'Ivoire\", 'Croatia', 'Cuba', 'Curacao', 'Cyprus', 'Czechia', 'Denmark', 'Dhekelia', 'Djibouti', 'Dominica', 'Dominican Republic', 'Ecuador', 'Egypt', 'El Salvador', 'Equatorial Guinea', 'Eritrea', 'Estonia', 'Eswatini', 'Ethiopia', 'European Union', 'Falkland Islands (Islas Malvinas)', 'Faroe Islands', 'Fiji', 'Finland', 'France', 'French Polynesia', 'French Southern and Antarctic Lands', 'Gabon', 'Gambia, The', 'Georgia', 'Germany', 'Ghana', 'Gibraltar', 'Greece', 'Greenland', 'Grenada', 'Guam', 'Guatemala', 'Guernsey', 'Guinea', 'Guinea-Bissau', 'Guyana', 'Haiti', 'Heard Island and McDonald Islands', 'Holy See (Vatican City)', 'Honduras', 'Hong Kong', 'Hungary', 'Iceland', 'India', 'Indonesia', 'Iran', 'Iraq', 'Ireland', 'Isle of Man', 'Israel', 'Italy', 'Jamaica', 'Jan Mayen', 'Japan', 'Jersey', 'Jordan', 'Kazakhstan', 'Kenya', 'Kiribati', 'Korea, North', 'Korea, South', 'Kosovo', 'Kuwait', 'Kyrgyzstan', 'Laos', 'Latvia', 'Lebanon', 'Lesotho', 'Liberia', 'Libya', 'Liechtenstein', 'Lithuania', 'Luxembourg', 'Macau', 'Macedonia', 'Madagascar', 'Malawi', 'Malaysia', 'Maldives', 'Mali', 'Malta', 'Marshall Islands', 'Mauritania', 'Mauritius', 'Mexico', 'Micronesia, Federated States of', 'Moldova', 'Monaco', 'Mongolia', 'Montenegro', 'Montserrat', 'Morocco', 'Mozambique', 'Namibia', 'Nauru', 'Navassa Island', 'Nepal', 'Netherlands', 'New Caledonia', 'New Zealand', 'Nicaragua', 'Niger', 'Nigeria', 'Niue', 'Norfolk Island', 'Northern Mariana Islands', 'Norway', 'Oman', 'Pakistan', 'Palau', 'Panama', 'Papua New Guinea', 'Paraguay', 'Peru', 'Philippines', 'Pitcairn Islands', 'Poland', 'Portugal', 'Puerto Rico', 'Qatar', 'Romania', 'Russia', 'Rwanda', 'Saint Barthelemy', 'Saint Helena, Ascension, and Tristan da Cunha', 'Saint Kitts and Nevis', 'Saint Lucia', 'Saint Martin', 'Saint Pierre and Miquelon', 'Saint Vincent and the Grenadines', 'Samoa', 'San Marino', 'Sao Tome and Principe', 'Saudi Arabia', 'Senegal', 'Serbia', 'Seychelles', 'Sierra Leone', 'Singapore', 'Sint Maarten', 'Slovakia', 'Slovenia', 'Solomon Islands', 'Somalia', 'South Africa', 'South Georgia and South Sandwich Islands', 'South Sudan', 'Spain', 'Sri Lanka', 'Sudan', 'Suriname', 'Svalbard', 'Sweden', 'Switzerland', 'Syria', 'Taiwan', 'Tajikistan', 'Tanzania', 'Thailand', 'Timor-Leste', 'Togo', 'Tokelau', 'Tonga', 'Trinidad and Tobago', 'Tunisia', 'Turkey', 'Turkmenistan', 'Turks and Caicos Islands', 'Tuvalu', 'Uganda', 'Ukraine', 'United Arab Emirates', 'United Kingdom', 'United States', 'United States Pacific Island Wildlife Refuges', 'Uruguay', 'Uzbekistan', 'Vanuatu', 'Venezuela', 'Vietnam', 'Virgin Islands', 'Wake Island', 'Wallis and Futuna', 'Western Sahara', 'Yemen', 'Zambia', 'Zimbabwe']\n"
     ]
    }
   ],
   "source": [
    "html = bs(urllib.request.urlopen(\"https://www.cia.gov/library/publications/the-world-factbook/docs/flagsoftheworld.html\"), \"lxml\")\n",
    "\n",
    "div_names = sorted([div.getText() for div in html.find_all(\"div\", attrs={\"class\": \"flag-description\"})])\n",
    "print(div_names)"
   ]
  },
  {
   "cell_type": "code",
   "execution_count": 4,
   "metadata": {},
   "outputs": [
    {
     "name": "stdout",
     "output_type": "stream",
     "text": [
      "          Country   Pixel 1   Pixel 2   Pixel 3   Pixel 4   Pixel 5   Pixel 6  \\\n",
      "0     Afghanistan -1.801486 -1.745098 -1.731087 -1.751298 -1.739147 -1.706871   \n",
      "1        Akrotiri  0.806424  0.978066  0.947274  0.948352  0.953176  0.975642   \n",
      "2         Albania -0.799373 -0.762391 -0.760327 -0.777076 -0.767570 -0.738834   \n",
      "3         Algeria -1.040846 -0.999188 -0.994245 -1.011828 -1.001685 -0.972096   \n",
      "4  American Samoa  0.806424  0.800468  0.783532  0.772287  0.777590  0.800695   \n",
      "\n",
      "    Pixel 7   Pixel 8   Pixel 9     ...       Pixel 9991  Pixel 9992  \\\n",
      "0 -1.686793 -1.573472 -1.593489     ...        -1.563441   -1.563876   \n",
      "1  0.998142  1.092251  1.081868     ...         1.000011    0.999342   \n",
      "2 -0.717881 -0.611494 -0.628034     ...        -0.769132   -0.769639   \n",
      "3 -0.951354 -0.843295 -0.860674     ...         0.855591    0.854936   \n",
      "4  0.823038  0.918399  0.907388     ...         0.687101    0.686461   \n",
      "\n",
      "   Pixel 9993  Pixel 9994  Pixel 9995  Pixel 9996  Pixel 9997  Pixel 9998  \\\n",
      "0   -1.563685   -1.569968   -1.590580   -1.592794   -1.591945   -1.592688   \n",
      "1    0.999694    0.993059    0.982353    0.975217    0.987607    0.975541   \n",
      "2   -0.769399    0.884762    0.873638    0.866710    0.867067    0.867024   \n",
      "3    0.855278    0.848663    0.837399    0.830541    0.830905    0.830852   \n",
      "4    0.686793    0.680201    0.668286    0.661751    0.662149    0.662048   \n",
      "\n",
      "   Pixel 9999  Pixel 10000  \n",
      "0   -1.590574    -1.626493  \n",
      "1    0.969053     0.811899  \n",
      "2    0.860900     0.873165  \n",
      "3    0.824849     0.836405  \n",
      "4    0.656611     0.652607  \n",
      "\n",
      "[5 rows x 10001 columns]\n"
     ]
    },
    {
     "data": {
      "image/png": "[encoded data removed]",
      "text/plain": [
       "<matplotlib.figure.Figure at 0x10701ecc0>"
      ]
     },
     "metadata": {},
     "output_type": "display_data"
    }
   ],
   "source": [
    "df = pd.DataFrame({\"Country\": div_names})\n",
    "\n",
    "for i in range(img_dimension**2):\n",
    "    pixels = [images[x][int(i/img_dimension)][i%img_dimension] for x in range(len(images))]\n",
    "    pixels = preprocessing.scale(pixels)\n",
    "    df[\"Pixel \" + str(i + 1)] = pixels\n",
    "print(df.head())\n",
    "plt.imshow(images[100])\n",
    "plt.show()"
   ]
  },
  {
   "cell_type": "code",
   "execution_count": 5,
   "metadata": {},
   "outputs": [
    {
     "data": {
      "text/plain": [
       "SVC(C=1000, cache_size=200, class_weight=None, coef0=0.0,\n",
       "  decision_function_shape='ovr', degree=3, gamma=0.001, kernel='rbf',\n",
       "  max_iter=-1, probability=False, random_state=None, shrinking=True,\n",
       "  tol=0.001, verbose=False)"
      ]
     },
     "execution_count": 5,
     "metadata": {},
     "output_type": "execute_result"
    }
   ],
   "source": [
    "model = svm.SVC(gamma=0.001, C=1000)\n",
    "x = df[df.columns.values[1:]]\n",
    "y = df.Country\n",
    "model.fit(x, y)"
   ]
  },
  {
   "cell_type": "code",
   "execution_count": 7,
   "metadata": {},
   "outputs": [
    {
     "name": "stdout",
     "output_type": "stream",
     "text": [
      "['Solomon Islands']\n"
     ]
    }
   ],
   "source": [
    "img = \"/Users/rohitneppalli/Downloads/si.png\"\n",
    "img_array = np.array(cv2.resize(mpimg.imread(img, 0), (img_dimension, img_dimension)))[:, :, 0]\n",
    "pixels = [img_array[int(i/img_dimension)][i % img_dimension] for i in range(img_dimension**2)]\n",
    "pixels = np.array(preprocessing.scale(pixels))\n",
    "\n",
    "print(model.predict(pixels.reshape(-1, img_dimension**2)))"
   ]
  },
  {
   "cell_type": "code",
   "execution_count": null,
   "metadata": {},
   "outputs": [],
   "source": []
  }
 ],
 "metadata": {
  "kernelspec": {
   "display_name": "Python 3",
   "language": "python",
   "name": "python3"
  },
  "language_info": {
   "codemirror_mode": {
    "name": "ipython",
    "version": 3
   },
   "file_extension": ".py",
   "mimetype": "text/x-python",
   "name": "python",
   "nbconvert_exporter": "python",
   "pygments_lexer": "ipython3",
   "version": "3.6.4"
  }
 },
 "nbformat": 4,
 "nbformat_minor": 2
}
