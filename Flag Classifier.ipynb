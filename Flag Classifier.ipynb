{
 "cells": [
  {
   "cell_type": "code",
   "execution_count": 9,
   "metadata": {},
   "outputs": [],
   "source": [
    "import sklearn.svm as svm\n",
    "from os import listdir\n",
    "import os\n",
    "from os.path import isfile, join\n",
    "from bs4 import BeautifulSoup as bs\n",
    "import urllib\n",
    "import pandas as pd\n",
    "import matplotlib.pyplot as plt\n",
    "import matplotlib.image as mpimg\n",
    "import glob\n",
    "import os\n",
    "import cv2\n",
    "import numpy as np\n",
    "from sklearn import model_selection, preprocessing, neighbors\n",
    "import collections\n",
    "import pickle\n",
    "\n",
    "img_dimension = 200"
   ]
  },
  {
   "cell_type": "code",
   "execution_count": 10,
   "metadata": {},
   "outputs": [
    {
     "name": "stdout",
     "output_type": "stream",
     "text": [
      "['/Users/rohitneppalli/Downloads/Flags/AA-flag.png', '/Users/rohitneppalli/Downloads/Flags/AC-flag.png', '/Users/rohitneppalli/Downloads/Flags/AE-flag.png', '/Users/rohitneppalli/Downloads/Flags/AF-flag.png', '/Users/rohitneppalli/Downloads/Flags/AG-flag.png', '/Users/rohitneppalli/Downloads/Flags/AJ-flag.png', '/Users/rohitneppalli/Downloads/Flags/AL-flag.png', '/Users/rohitneppalli/Downloads/Flags/AM-flag.png', '/Users/rohitneppalli/Downloads/Flags/AN-flag.png', '/Users/rohitneppalli/Downloads/Flags/AO-flag.png', '/Users/rohitneppalli/Downloads/Flags/AQ-flag.png', '/Users/rohitneppalli/Downloads/Flags/AR-flag.png', '/Users/rohitneppalli/Downloads/Flags/AS-flag.png', '/Users/rohitneppalli/Downloads/Flags/AT-flag.png', '/Users/rohitneppalli/Downloads/Flags/AU-flag.png', '/Users/rohitneppalli/Downloads/Flags/AV-flag.png', '/Users/rohitneppalli/Downloads/Flags/AX-flag.png', '/Users/rohitneppalli/Downloads/Flags/BA-flag.png', '/Users/rohitneppalli/Downloads/Flags/BB-flag.png', '/Users/rohitneppalli/Downloads/Flags/BC-flag.png', '/Users/rohitneppalli/Downloads/Flags/BD-flag.png', '/Users/rohitneppalli/Downloads/Flags/BE-flag.png', '/Users/rohitneppalli/Downloads/Flags/BF-flag.png', '/Users/rohitneppalli/Downloads/Flags/BG-flag.png', '/Users/rohitneppalli/Downloads/Flags/BH-flag.png', '/Users/rohitneppalli/Downloads/Flags/BK-flag.png', '/Users/rohitneppalli/Downloads/Flags/BL-flag.png', '/Users/rohitneppalli/Downloads/Flags/BM-flag.png', '/Users/rohitneppalli/Downloads/Flags/BN-flag.png', '/Users/rohitneppalli/Downloads/Flags/BO-flag.png', '/Users/rohitneppalli/Downloads/Flags/BP-flag.png', '/Users/rohitneppalli/Downloads/Flags/BQ-flag.png', '/Users/rohitneppalli/Downloads/Flags/BR-flag.png', '/Users/rohitneppalli/Downloads/Flags/BT-flag.png', '/Users/rohitneppalli/Downloads/Flags/BU-flag.png', '/Users/rohitneppalli/Downloads/Flags/BV-flag.png', '/Users/rohitneppalli/Downloads/Flags/BX-flag.png', '/Users/rohitneppalli/Downloads/Flags/BY-flag.png', '/Users/rohitneppalli/Downloads/Flags/CA-flag.png', '/Users/rohitneppalli/Downloads/Flags/CB-flag.png', '/Users/rohitneppalli/Downloads/Flags/CD-flag.png', '/Users/rohitneppalli/Downloads/Flags/CE-flag.png', '/Users/rohitneppalli/Downloads/Flags/CF-flag.png', '/Users/rohitneppalli/Downloads/Flags/CG-flag.png', '/Users/rohitneppalli/Downloads/Flags/CH-flag.png', '/Users/rohitneppalli/Downloads/Flags/CI-flag.png', '/Users/rohitneppalli/Downloads/Flags/CJ-flag.png', '/Users/rohitneppalli/Downloads/Flags/CK-flag.png', '/Users/rohitneppalli/Downloads/Flags/CM-flag.png', '/Users/rohitneppalli/Downloads/Flags/CN-flag.png', '/Users/rohitneppalli/Downloads/Flags/CO-flag.png', '/Users/rohitneppalli/Downloads/Flags/CQ-flag.png', '/Users/rohitneppalli/Downloads/Flags/CR-flag.png', '/Users/rohitneppalli/Downloads/Flags/CS-flag.png', '/Users/rohitneppalli/Downloads/Flags/CT-flag.png', '/Users/rohitneppalli/Downloads/Flags/CU-flag.png', '/Users/rohitneppalli/Downloads/Flags/CV-flag.png', '/Users/rohitneppalli/Downloads/Flags/CW-flag.png', '/Users/rohitneppalli/Downloads/Flags/CY-flag.png', '/Users/rohitneppalli/Downloads/Flags/DA-flag.png', '/Users/rohitneppalli/Downloads/Flags/DJ-flag.png', '/Users/rohitneppalli/Downloads/Flags/DO-flag.png', '/Users/rohitneppalli/Downloads/Flags/DR-flag.png', '/Users/rohitneppalli/Downloads/Flags/DX-flag.png', '/Users/rohitneppalli/Downloads/Flags/EC-flag.png', '/Users/rohitneppalli/Downloads/Flags/EE-flag.png', '/Users/rohitneppalli/Downloads/Flags/EG-flag.png', '/Users/rohitneppalli/Downloads/Flags/EI-flag.png', '/Users/rohitneppalli/Downloads/Flags/EK-flag.png', '/Users/rohitneppalli/Downloads/Flags/EN-flag.png', '/Users/rohitneppalli/Downloads/Flags/ER-flag.png', '/Users/rohitneppalli/Downloads/Flags/ES-flag.png', '/Users/rohitneppalli/Downloads/Flags/ET-flag.png', '/Users/rohitneppalli/Downloads/Flags/EZ-flag.png', '/Users/rohitneppalli/Downloads/Flags/FI-flag.png', '/Users/rohitneppalli/Downloads/Flags/FJ-flag.png', '/Users/rohitneppalli/Downloads/Flags/FK-flag.png', '/Users/rohitneppalli/Downloads/Flags/FM-flag.png', '/Users/rohitneppalli/Downloads/Flags/FO-flag.png', '/Users/rohitneppalli/Downloads/Flags/FP-flag.png', '/Users/rohitneppalli/Downloads/Flags/FR-flag.png', '/Users/rohitneppalli/Downloads/Flags/FS-flag.png', '/Users/rohitneppalli/Downloads/Flags/GA-flag.png', '/Users/rohitneppalli/Downloads/Flags/GB-flag.png', '/Users/rohitneppalli/Downloads/Flags/GG-flag.png', '/Users/rohitneppalli/Downloads/Flags/GH-flag.png', '/Users/rohitneppalli/Downloads/Flags/GI-flag.png', '/Users/rohitneppalli/Downloads/Flags/GJ-flag.png', '/Users/rohitneppalli/Downloads/Flags/GK-flag.png', '/Users/rohitneppalli/Downloads/Flags/GL-flag.png', '/Users/rohitneppalli/Downloads/Flags/GM-flag.png', '/Users/rohitneppalli/Downloads/Flags/GQ-flag.png', '/Users/rohitneppalli/Downloads/Flags/GR-flag.png', '/Users/rohitneppalli/Downloads/Flags/GT-flag.png', '/Users/rohitneppalli/Downloads/Flags/GV-flag.png', '/Users/rohitneppalli/Downloads/Flags/GY-flag.png', '/Users/rohitneppalli/Downloads/Flags/HA-flag.png', '/Users/rohitneppalli/Downloads/Flags/HK-flag.png', '/Users/rohitneppalli/Downloads/Flags/HM-flag.png', '/Users/rohitneppalli/Downloads/Flags/HO-flag.png', '/Users/rohitneppalli/Downloads/Flags/HR-flag.png', '/Users/rohitneppalli/Downloads/Flags/HU-flag.png', '/Users/rohitneppalli/Downloads/Flags/IC-flag.png', '/Users/rohitneppalli/Downloads/Flags/ID-flag.png', '/Users/rohitneppalli/Downloads/Flags/IM-flag.png', '/Users/rohitneppalli/Downloads/Flags/IN-flag.png', '/Users/rohitneppalli/Downloads/Flags/IO-flag.png', '/Users/rohitneppalli/Downloads/Flags/IP-flag.png', '/Users/rohitneppalli/Downloads/Flags/IR-flag.png', '/Users/rohitneppalli/Downloads/Flags/IS-flag.png', '/Users/rohitneppalli/Downloads/Flags/IT-flag.png', '/Users/rohitneppalli/Downloads/Flags/IV-flag.png', '/Users/rohitneppalli/Downloads/Flags/IZ-flag.png', '/Users/rohitneppalli/Downloads/Flags/JA-flag.png', '/Users/rohitneppalli/Downloads/Flags/JE-flag.png', '/Users/rohitneppalli/Downloads/Flags/JM-flag.png', '/Users/rohitneppalli/Downloads/Flags/JN-flag.png', '/Users/rohitneppalli/Downloads/Flags/JO-flag.png', '/Users/rohitneppalli/Downloads/Flags/KE-flag.png', '/Users/rohitneppalli/Downloads/Flags/KG-flag.png', '/Users/rohitneppalli/Downloads/Flags/KN-flag.png', '/Users/rohitneppalli/Downloads/Flags/KR-flag.png', '/Users/rohitneppalli/Downloads/Flags/KS-flag.png', '/Users/rohitneppalli/Downloads/Flags/KT-flag.png', '/Users/rohitneppalli/Downloads/Flags/KU-flag.png', '/Users/rohitneppalli/Downloads/Flags/KV-flag.png', '/Users/rohitneppalli/Downloads/Flags/KZ-flag.png', '/Users/rohitneppalli/Downloads/Flags/LA-flag.png', '/Users/rohitneppalli/Downloads/Flags/LE-flag.png', '/Users/rohitneppalli/Downloads/Flags/LG-flag.png', '/Users/rohitneppalli/Downloads/Flags/LH-flag.png', '/Users/rohitneppalli/Downloads/Flags/LI-flag.png', '/Users/rohitneppalli/Downloads/Flags/LO-flag.png', '/Users/rohitneppalli/Downloads/Flags/LS-flag.png', '/Users/rohitneppalli/Downloads/Flags/LT-flag.png', '/Users/rohitneppalli/Downloads/Flags/LU-flag.png', '/Users/rohitneppalli/Downloads/Flags/LY-flag.png', '/Users/rohitneppalli/Downloads/Flags/MA-flag.png', '/Users/rohitneppalli/Downloads/Flags/MC-flag.png', '/Users/rohitneppalli/Downloads/Flags/MD-flag.png', '/Users/rohitneppalli/Downloads/Flags/MG-flag.png', '/Users/rohitneppalli/Downloads/Flags/MH-flag.png', '/Users/rohitneppalli/Downloads/Flags/MI-flag.png', '/Users/rohitneppalli/Downloads/Flags/MJ-flag.png', '/Users/rohitneppalli/Downloads/Flags/MK-flag.png', '/Users/rohitneppalli/Downloads/Flags/ML-flag.png', '/Users/rohitneppalli/Downloads/Flags/MN-flag.png', '/Users/rohitneppalli/Downloads/Flags/MO-flag.png', '/Users/rohitneppalli/Downloads/Flags/MP-flag.png', '/Users/rohitneppalli/Downloads/Flags/MR-flag.png', '/Users/rohitneppalli/Downloads/Flags/MT-flag.png', '/Users/rohitneppalli/Downloads/Flags/MU-flag.png', '/Users/rohitneppalli/Downloads/Flags/MV-flag.png', '/Users/rohitneppalli/Downloads/Flags/MX-flag.png', '/Users/rohitneppalli/Downloads/Flags/MY-flag.png', '/Users/rohitneppalli/Downloads/Flags/MZ-flag.png', '/Users/rohitneppalli/Downloads/Flags/NC-flag.png', '/Users/rohitneppalli/Downloads/Flags/NE-flag.png', '/Users/rohitneppalli/Downloads/Flags/NF-flag.png', '/Users/rohitneppalli/Downloads/Flags/NG-flag.png', '/Users/rohitneppalli/Downloads/Flags/NH-flag.png', '/Users/rohitneppalli/Downloads/Flags/NI-flag.png', '/Users/rohitneppalli/Downloads/Flags/NL-flag.png', '/Users/rohitneppalli/Downloads/Flags/NN-flag.png', '/Users/rohitneppalli/Downloads/Flags/NO-flag.png', '/Users/rohitneppalli/Downloads/Flags/NP-flag.png', '/Users/rohitneppalli/Downloads/Flags/NR-flag.png', '/Users/rohitneppalli/Downloads/Flags/NS-flag.png', '/Users/rohitneppalli/Downloads/Flags/NU-flag.png', '/Users/rohitneppalli/Downloads/Flags/NZ-flag.png', '/Users/rohitneppalli/Downloads/Flags/OD-flag.png', '/Users/rohitneppalli/Downloads/Flags/PA-flag.png', '/Users/rohitneppalli/Downloads/Flags/PC-flag.png', '/Users/rohitneppalli/Downloads/Flags/PE-flag.png', '/Users/rohitneppalli/Downloads/Flags/PK-flag.png', '/Users/rohitneppalli/Downloads/Flags/PL-flag.png', '/Users/rohitneppalli/Downloads/Flags/PM-flag.png', '/Users/rohitneppalli/Downloads/Flags/PO-flag.png', '/Users/rohitneppalli/Downloads/Flags/PP-flag.png', '/Users/rohitneppalli/Downloads/Flags/PS-flag.png', '/Users/rohitneppalli/Downloads/Flags/PU-flag.png', '/Users/rohitneppalli/Downloads/Flags/QA-flag.png', '/Users/rohitneppalli/Downloads/Flags/RI-flag.png', '/Users/rohitneppalli/Downloads/Flags/RM-flag.png', '/Users/rohitneppalli/Downloads/Flags/RN-flag.png', '/Users/rohitneppalli/Downloads/Flags/RO-flag.png', '/Users/rohitneppalli/Downloads/Flags/RP-flag.png', '/Users/rohitneppalli/Downloads/Flags/RQ-flag.png', '/Users/rohitneppalli/Downloads/Flags/RS-flag.png', '/Users/rohitneppalli/Downloads/Flags/RW-flag.png', '/Users/rohitneppalli/Downloads/Flags/SA-flag.png', '/Users/rohitneppalli/Downloads/Flags/SB-flag.png', '/Users/rohitneppalli/Downloads/Flags/SC-flag.png', '/Users/rohitneppalli/Downloads/Flags/SE-flag.png', '/Users/rohitneppalli/Downloads/Flags/SF-flag.png', '/Users/rohitneppalli/Downloads/Flags/SG-flag.png', '/Users/rohitneppalli/Downloads/Flags/SH-flag.png', '/Users/rohitneppalli/Downloads/Flags/SI-flag.png', '/Users/rohitneppalli/Downloads/Flags/SL-flag.png', '/Users/rohitneppalli/Downloads/Flags/SM-flag.png', '/Users/rohitneppalli/Downloads/Flags/SN-flag.png', '/Users/rohitneppalli/Downloads/Flags/SO-flag.png', '/Users/rohitneppalli/Downloads/Flags/SP-flag.png', '/Users/rohitneppalli/Downloads/Flags/ST-flag.png', '/Users/rohitneppalli/Downloads/Flags/SU-flag.png', '/Users/rohitneppalli/Downloads/Flags/SV-flag.png', '/Users/rohitneppalli/Downloads/Flags/SW-flag.png', '/Users/rohitneppalli/Downloads/Flags/SX-flag.png', '/Users/rohitneppalli/Downloads/Flags/SY-flag.png', '/Users/rohitneppalli/Downloads/Flags/SZ-flag.png', '/Users/rohitneppalli/Downloads/Flags/TB-flag.png', '/Users/rohitneppalli/Downloads/Flags/TD-flag.png', '/Users/rohitneppalli/Downloads/Flags/TH-flag.png', '/Users/rohitneppalli/Downloads/Flags/TI-flag.png', '/Users/rohitneppalli/Downloads/Flags/TK-flag.png', '/Users/rohitneppalli/Downloads/Flags/TL-flag.png', '/Users/rohitneppalli/Downloads/Flags/TN-flag.png', '/Users/rohitneppalli/Downloads/Flags/TO-flag.png', '/Users/rohitneppalli/Downloads/Flags/TP-flag.png', '/Users/rohitneppalli/Downloads/Flags/TS-flag.png', '/Users/rohitneppalli/Downloads/Flags/TT-flag.png', '/Users/rohitneppalli/Downloads/Flags/TU-flag.png', '/Users/rohitneppalli/Downloads/Flags/TV-flag.png', '/Users/rohitneppalli/Downloads/Flags/TW-flag.png', '/Users/rohitneppalli/Downloads/Flags/TX-flag.png', '/Users/rohitneppalli/Downloads/Flags/TZ-flag.png', '/Users/rohitneppalli/Downloads/Flags/UC-flag.png', '/Users/rohitneppalli/Downloads/Flags/UG-flag.png', '/Users/rohitneppalli/Downloads/Flags/UK-flag.png', '/Users/rohitneppalli/Downloads/Flags/UM-flag.png', '/Users/rohitneppalli/Downloads/Flags/UP-flag.png', '/Users/rohitneppalli/Downloads/Flags/US-flag.png', '/Users/rohitneppalli/Downloads/Flags/UV-flag.png', '/Users/rohitneppalli/Downloads/Flags/UY-flag.png', '/Users/rohitneppalli/Downloads/Flags/UZ-flag.png', '/Users/rohitneppalli/Downloads/Flags/VC-flag.png', '/Users/rohitneppalli/Downloads/Flags/VE-flag.png', '/Users/rohitneppalli/Downloads/Flags/VI-flag.png', '/Users/rohitneppalli/Downloads/Flags/VM-flag.png', '/Users/rohitneppalli/Downloads/Flags/VQ-flag.png', '/Users/rohitneppalli/Downloads/Flags/VT-flag.png', '/Users/rohitneppalli/Downloads/Flags/WA-flag.png', '/Users/rohitneppalli/Downloads/Flags/WF-flag.png', '/Users/rohitneppalli/Downloads/Flags/WI-flag.png', '/Users/rohitneppalli/Downloads/Flags/WQ-flag.png', '/Users/rohitneppalli/Downloads/Flags/WS-flag.png', '/Users/rohitneppalli/Downloads/Flags/WZ-flag.png', '/Users/rohitneppalli/Downloads/Flags/YM-flag.png', '/Users/rohitneppalli/Downloads/Flags/ZA-flag.png', '/Users/rohitneppalli/Downloads/Flags/ZI-flag.png']\n"
     ]
    },
    {
     "data": {
      "image/png": "[encoded data removed]",
      "text/plain": [
       "<matplotlib.figure.Figure at 0x119334b38>"
      ]
     },
     "metadata": {},
     "output_type": "display_data"
    },
    {
     "name": "stdout",
     "output_type": "stream",
     "text": [
      "(200, 200)\n",
      "40000\n"
     ]
    }
   ],
   "source": [
    "mypath = \"/Users/rohitneppalli/Downloads/Flags\"\n",
    "my_dir = sorted(listdir(mypath))\n",
    "onlyfiles = sorted([join(mypath,f) for f in my_dir if isfile(join(mypath, f)) and \".png\" in str(f)])\n",
    "print(onlyfiles)\n",
    "images = [np.array(cv2.resize(mpimg.imread(join(mypath, file), 0), (img_dimension, img_dimension)))[\n",
    ":, :, 0] for file in onlyfiles]  # screws up image color, but down to 2 dimensions\n",
    "plt.imshow(images[0])\n",
    "plt.show()\n",
    "print(np.array(images[0]).shape)\n",
    "print(np.array(images[0]).size)"
   ]
  },
  {
   "cell_type": "code",
   "execution_count": 11,
   "metadata": {},
   "outputs": [
    {
     "name": "stdout",
     "output_type": "stream",
     "text": [
      "OrderedDict([('AA', 'Aruba'), ('AC', 'Antigua and Barbuda'), ('AE', 'United Arab Emirates'), ('AF', 'Afghanistan'), ('AG', 'Algeria'), ('AJ', 'Azerbaijan'), ('AL', 'Albania'), ('AM', 'Armenia'), ('AN', 'Andorra'), ('AO', 'Angola'), ('AQ', 'American Samoa'), ('AR', 'Argentina'), ('AS', 'Australia'), ('AT', 'Ashmore and Cartier Islands'), ('AU', 'Austria'), ('AV', 'Anguilla'), ('AX', 'Akrotiri'), ('BA', 'Bahrain'), ('BB', 'Barbados'), ('BC', 'Botswana'), ('BD', 'Bermuda'), ('BE', 'Belgium'), ('BF', 'Bahamas, The'), ('BG', 'Bangladesh'), ('BH', 'Belize'), ('BK', 'Bosnia and Herzegovina'), ('BL', 'Bolivia'), ('BM', 'Burma'), ('BN', 'Benin'), ('BO', 'Belarus'), ('BP', 'Solomon Islands'), ('BQ', 'Navassa Island'), ('BR', 'Brazil'), ('BT', 'Bhutan'), ('BU', 'Bulgaria'), ('BV', 'Bouvet Island'), ('BX', 'Brunei'), ('BY', 'Burundi'), ('CA', 'Canada'), ('CB', 'Cambodia'), ('CD', 'Chad'), ('CE', 'Sri Lanka'), ('CF', 'Congo, Republic of the'), ('CG', 'Congo, Democratic Republic of the'), ('CH', 'China'), ('CI', 'Chile'), ('CJ', 'Cayman Islands'), ('CK', 'Cocos (Keeling) Islands'), ('CM', 'Cameroon'), ('CN', 'Comoros'), ('CO', 'Colombia'), ('CQ', 'Northern Mariana Islands'), ('CR', 'Coral Sea Islands'), ('CS', 'Costa Rica'), ('CT', 'Central African Republic'), ('CU', 'Cuba'), ('CV', 'Cabo Verde'), ('CW', 'Cook Islands'), ('CY', 'Cyprus'), ('DA', 'Denmark'), ('DJ', 'Djibouti'), ('DO', 'Dominica'), ('DR', 'Dominican Republic'), ('DX', 'Dhekelia'), ('EC', 'Ecuador'), ('EE', 'European Union'), ('EG', 'Egypt'), ('EI', 'Ireland'), ('EK', 'Equatorial Guinea'), ('EN', 'Estonia'), ('ER', 'Eritrea'), ('ES', 'El Salvador'), ('ET', 'Ethiopia'), ('EZ', 'Czechia'), ('FI', 'Finland'), ('FJ', 'Fiji'), ('FK', 'Falkland Islands (Islas Malvinas)'), ('FM', 'Micronesia, Federated States of'), ('FO', 'Faroe Islands'), ('FP', 'French Polynesia'), ('FR', 'France'), ('FS', 'French Southern and Antarctic Lands'), ('GA', 'Gambia, The'), ('GB', 'Gabon'), ('GG', 'Georgia'), ('GH', 'Ghana'), ('GI', 'Gibraltar'), ('GJ', 'Grenada'), ('GK', 'Guernsey'), ('GL', 'Greenland'), ('GM', 'Germany'), ('GQ', 'Guam'), ('GR', 'Greece'), ('GT', 'Guatemala'), ('GV', 'Guinea'), ('GY', 'Guyana'), ('HA', 'Haiti'), ('HK', 'Hong Kong'), ('HM', 'Heard Island and McDonald Islands'), ('HO', 'Honduras'), ('HR', 'Croatia'), ('HU', 'Hungary'), ('IC', 'Iceland'), ('ID', 'Indonesia'), ('IM', 'Isle of Man'), ('IN', 'India'), ('IO', 'British Indian Ocean Territory'), ('IP', 'Clipperton Island'), ('IR', 'Iran'), ('IS', 'Israel'), ('IT', 'Italy'), ('IV', \"Cote d'Ivoire\"), ('IZ', 'Iraq'), ('JA', 'Japan'), ('JE', 'Jersey'), ('JM', 'Jamaica'), ('JN', 'Jan Mayen'), ('JO', 'Jordan'), ('KE', 'Kenya'), ('KG', 'Kyrgyzstan'), ('KN', 'Korea, North'), ('KR', 'Kiribati'), ('KS', 'Korea, South'), ('KT', 'Christmas Island'), ('KU', 'Kuwait'), ('KV', 'Kosovo'), ('KZ', 'Kazakhstan'), ('LA', 'Laos'), ('LE', 'Lebanon'), ('LG', 'Latvia'), ('LH', 'Lithuania'), ('LI', 'Liberia'), ('LO', 'Slovakia'), ('LS', 'Liechtenstein'), ('LT', 'Lesotho'), ('LU', 'Luxembourg'), ('LY', 'Libya'), ('MA', 'Madagascar'), ('MC', 'Macau'), ('MD', 'Moldova'), ('MG', 'Mongolia'), ('MH', 'Montserrat'), ('MI', 'Malawi'), ('MJ', 'Montenegro'), ('MK', 'Macedonia'), ('ML', 'Mali'), ('MN', 'Monaco'), ('MO', 'Morocco'), ('MP', 'Mauritius'), ('MR', 'Mauritania'), ('MT', 'Malta'), ('MU', 'Oman'), ('MV', 'Maldives'), ('MX', 'Mexico'), ('MY', 'Malaysia'), ('MZ', 'Mozambique'), ('NC', 'New Caledonia'), ('NE', 'Niue'), ('NF', 'Norfolk Island'), ('NG', 'Niger'), ('NH', 'Vanuatu'), ('NI', 'Nigeria'), ('NL', 'Netherlands'), ('NN', 'Sint Maarten'), ('NO', 'Norway'), ('NP', 'Nepal'), ('NR', 'Nauru'), ('NS', 'Suriname'), ('NU', 'Nicaragua'), ('NZ', 'New Zealand'), ('OD', 'South Sudan'), ('PA', 'Paraguay'), ('PC', 'Pitcairn Islands'), ('PE', 'Peru'), ('PK', 'Pakistan'), ('PL', 'Poland'), ('PM', 'Panama'), ('PO', 'Portugal'), ('PP', 'Papua New Guinea'), ('PS', 'Palau'), ('PU', 'Guinea-Bissau'), ('QA', 'Qatar'), ('RI', 'Serbia'), ('RM', 'Marshall Islands'), ('RN', 'Saint Martin'), ('RO', 'Romania'), ('RP', 'Philippines'), ('RQ', 'Puerto Rico'), ('RS', 'Russia'), ('RW', 'Rwanda'), ('SA', 'Saudi Arabia'), ('SB', 'Saint Pierre and Miquelon'), ('SC', 'Saint Kitts and Nevis'), ('SE', 'Seychelles'), ('SF', 'South Africa'), ('SG', 'Senegal'), ('SH', 'Saint Helena, Ascension, and Tristan da Cunha'), ('SI', 'Slovenia'), ('SL', 'Sierra Leone'), ('SM', 'San Marino'), ('SN', 'Singapore'), ('SO', 'Somalia'), ('SP', 'Spain'), ('ST', 'Saint Lucia'), ('SU', 'Sudan'), ('SV', 'Svalbard'), ('SW', 'Sweden'), ('SX', 'South Georgia and South Sandwich Islands'), ('SY', 'Syria'), ('SZ', 'Switzerland'), ('TB', 'Saint Barthelemy'), ('TD', 'Trinidad and Tobago'), ('TH', 'Thailand'), ('TI', 'Tajikistan'), ('TK', 'Turks and Caicos Islands'), ('TL', 'Tokelau'), ('TN', 'Tonga'), ('TO', 'Togo'), ('TP', 'Sao Tome and Principe'), ('TS', 'Tunisia'), ('TT', 'Timor-Leste'), ('TU', 'Turkey'), ('TV', 'Tuvalu'), ('TW', 'Taiwan'), ('TX', 'Turkmenistan'), ('TZ', 'Tanzania'), ('UC', 'Curacao'), ('UG', 'Uganda'), ('UK', 'United Kingdom'), ('UM', 'United States Pacific Island Wildlife Refuges'), ('UP', 'Ukraine'), ('US', 'United States'), ('UV', 'Burkina Faso'), ('UY', 'Uruguay'), ('UZ', 'Uzbekistan'), ('VC', 'Saint Vincent and the Grenadines'), ('VE', 'Venezuela'), ('VI', 'British Virgin Islands'), ('VM', 'Vietnam'), ('VQ', 'Virgin Islands'), ('VT', 'Holy See (Vatican City)'), ('WA', 'Namibia'), ('WF', 'Wallis and Futuna'), ('WI', 'Western Sahara'), ('WQ', 'Wake Island'), ('WS', 'Samoa'), ('WZ', 'Eswatini'), ('YM', 'Yemen'), ('ZA', 'Zambia'), ('ZI', 'Zimbabwe')])\n"
     ]
    }
   ],
   "source": [
    "html = bs(urllib.request.urlopen(\"https://www.cia.gov/library/publications/the-world-factbook/docs/flagsoftheworld.html\"), \"lxml\")\n",
    "\n",
    "div_names = [div.getText() for div in html.find_all(\"div\", attrs={\"class\": \"flag-description\"})]\n",
    "flags = [div.find(\"img\")[\"src\"][-11:-9] for div in html.find_all(\"div\", attrs={\"class\": \"flag-image\"})]\n",
    "map = {flags[i]: div_names[i] for i in range(len(flags))}\n",
    "map = collections.OrderedDict(sorted(map.items()))\n",
    "print(map)"
   ]
  },
  {
   "cell_type": "code",
   "execution_count": 15,
   "metadata": {},
   "outputs": [
    {
     "name": "stdout",
     "output_type": "stream",
     "text": [
      "                Country   Pixel 1   Pixel 2   Pixel 3   Pixel 4   Pixel 5  \\\n",
      "0                 Aruba -2.175375 -2.008326 -1.947517 -1.953955 -1.959769   \n",
      "1   Antigua and Barbuda -0.476558 -3.402179 -3.412474 -3.434749 -3.442401   \n",
      "2  United Arab Emirates -0.901263 -1.183793 -1.148450 -1.146250 -1.151061   \n",
      "3           Afghanistan -3.732623 -3.519969 -3.412474 -3.434749 -3.442401   \n",
      "4               Algeria  0.089714 -0.104048 -0.102052 -0.069309 -0.092039   \n",
      "\n",
      "    Pixel 6   Pixel 7   Pixel 8   Pixel 9     ...       Pixel 39991  \\\n",
      "0 -2.001909 -2.012942 -2.010521 -2.003184     ...         -1.875702   \n",
      "1 -3.508134 -3.521159 -3.515812 -3.506842     ...         -0.875427   \n",
      "2 -1.180332 -1.190278 -1.189453 -1.183007     ...         -3.302021   \n",
      "3 -3.508134 -3.521159 -3.515812 -3.506842     ...         -0.523478   \n",
      "4 -0.104458 -0.112979 -0.114246 -0.108966     ...          0.513845   \n",
      "\n",
      "   Pixel 39992  Pixel 39993  Pixel 39994  Pixel 39995  Pixel 39996  \\\n",
      "0    -1.875833    -1.876089    -1.876340    -1.876116    -1.875546   \n",
      "1    -0.875685    -0.875962    -0.876198    -0.875738    -0.874919   \n",
      "2    -3.301970    -3.302194    -3.302468    -3.302581    -3.302366   \n",
      "3    -0.523781    -0.524066    -0.524297    -0.523753    -0.522846   \n",
      "4     0.513409     0.513102     0.512888     0.513675     0.514841   \n",
      "\n",
      "   Pixel 39997  Pixel 39998  Pixel 39999  Pixel 40000  \n",
      "0    -1.869639    -1.870039    -1.885382    -2.070327  \n",
      "1    -0.872045    -0.872389    -0.878114    -1.016864  \n",
      "2    -3.292134    -3.292613    -3.321672     0.095124  \n",
      "3    -0.521040    -0.521364    -0.523705    -0.451116  \n",
      "4     0.513502     0.513235     0.520870     0.368244  \n",
      "\n",
      "[5 rows x 40001 columns]\n"
     ]
    }
   ],
   "source": [
    "df = pd.DataFrame({\"Country\": [val for key, val in map.items()]})\n",
    "\n",
    "for i in range(img_dimension**2):\n",
    "    pixels = [images[x][int(i/img_dimension)][i%img_dimension] for x in range(len(images))]\n",
    "    pixels = preprocessing.scale(pixels)\n",
    "    df[\"Pixel \" + str(i + 1)] = pixels\n",
    "print(df.head())"
   ]
  },
  {
   "cell_type": "code",
   "execution_count": 16,
   "metadata": {},
   "outputs": [],
   "source": [
    "# If you're creating model for first time\n",
    "\n",
    "# model = svm.SVC(gamma=0.001, C=1000)\n",
    "# x = df[df.columns.values[1:]]\n",
    "# y = df.Country\n",
    "# model.fit(x, y)\n",
    "# file = open(\"/Users/rohitneppalli/Downloads/svm_model\", \"wb\")\n",
    "# pickle.dump(model, file)\n",
    "# file.close()\n",
    "\n",
    "# Otherwise, load in model\n",
    "file = open(\"/Users/rohitneppalli/Downloads/svm_model\", \"rb\")\n",
    "model = pickle.load(file)"
   ]
  },
  {
   "cell_type": "code",
   "execution_count": 17,
   "metadata": {},
   "outputs": [
    {
     "name": "stdout",
     "output_type": "stream",
     "text": [
      "['Germany']\n"
     ]
    }
   ],
   "source": [
    "img = \"/Users/rohitneppalli/Downloads/ge.png\"\n",
    "img_array = np.array(cv2.resize(mpimg.imread(img, 0), (img_dimension, img_dimension)))[:, :, 0]\n",
    "pixels = [img_array[int(i/img_dimension)][i % img_dimension] for i in range(img_dimension**2)]\n",
    "pixels = np.array(preprocessing.scale(pixels))\n",
    "\n",
    "print(model.predict(pixels.reshape(-1, img_dimension**2)))"
   ]
  },
  {
   "cell_type": "code",
   "execution_count": null,
   "metadata": {},
   "outputs": [],
   "source": []
  }
 ],
 "metadata": {
  "kernelspec": {
   "display_name": "Python 3",
   "language": "python",
   "name": "python3"
  },
  "language_info": {
   "codemirror_mode": {
    "name": "ipython",
    "version": 3
   },
   "file_extension": ".py",
   "mimetype": "text/x-python",
   "name": "python",
   "nbconvert_exporter": "python",
   "pygments_lexer": "ipython3",
   "version": "3.6.4"
  }
 },
 "nbformat": 4,
 "nbformat_minor": 2
}
