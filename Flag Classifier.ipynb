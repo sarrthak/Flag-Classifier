{
 "cells": [
  {
   "cell_type": "code",
   "execution_count": 18,
   "metadata": {},
   "outputs": [],
   "source": [
    "import sklearn.svm as svm\n",
    "from os import listdir\n",
    "from os.path import isfile, join\n",
    "from bs4 import BeautifulSoup as bs\n",
    "import urllib\n",
    "import pandas as pd\n",
    "import matplotlib.pyplot as plt\n",
    "import matplotlib.image as mpimg\n",
    "import cv2\n",
    "import numpy as np\n",
    "from sklearn import model_selection, preprocessing\n",
    "import collections\n",
    "import pickle\n",
    "\n",
    "img_dimension = 50"
   ]
  },
  {
   "cell_type": "code",
   "execution_count": 19,
   "metadata": {},
   "outputs": [
    {
     "data": {
      "image/png": "[encoded data removed]",
      "text/plain": [
       "<matplotlib.figure.Figure at 0x1a25a2b0b8>"
      ]
     },
     "metadata": {},
     "output_type": "display_data"
    },
    {
     "name": "stdout",
     "output_type": "stream",
     "text": [
      "(50, 50)\n",
      "2500\n"
     ]
    }
   ],
   "source": [
    "mypath = \"/Users/rohitneppalli/Downloads/Flags\"\n",
    "my_dir = sorted(listdir(mypath))\n",
    "onlyfiles = sorted([join(mypath,f) for f in my_dir if isfile(join(mypath, f)) and \".png\" in str(f)])\n",
    "images = [np.array(cv2.resize(mpimg.imread(join(mypath, file), 0), (img_dimension, img_dimension)))[\n",
    "    :, :, 0] for file in onlyfiles]  # screws up image color, but down to 2 dimensions\n",
    "plt.imshow(images[0])\n",
    "plt.show()\n",
    "print(np.array(images[0]).shape)\n",
    "print(np.array(images[0]).size)"
   ]
  },
  {
   "cell_type": "code",
   "execution_count": 20,
   "metadata": {},
   "outputs": [
    {
     "name": "stdout",
     "output_type": "stream",
     "text": [
      "OrderedDict([('AA', 'Aruba'), ('AC', 'Antigua and Barbuda'), ('AE', 'United Arab Emirates'), ('AF', 'Afghanistan'), ('AG', 'Algeria'), ('AJ', 'Azerbaijan'), ('AL', 'Albania'), ('AM', 'Armenia'), ('AN', 'Andorra'), ('AO', 'Angola'), ('AQ', 'American Samoa'), ('AR', 'Argentina'), ('AS', 'Australia'), ('AT', 'Ashmore and Cartier Islands'), ('AU', 'Austria'), ('AV', 'Anguilla'), ('AX', 'Akrotiri'), ('BA', 'Bahrain'), ('BB', 'Barbados'), ('BC', 'Botswana'), ('BD', 'Bermuda'), ('BE', 'Belgium'), ('BF', 'Bahamas, The'), ('BG', 'Bangladesh'), ('BH', 'Belize'), ('BK', 'Bosnia and Herzegovina'), ('BL', 'Bolivia'), ('BM', 'Burma'), ('BN', 'Benin'), ('BO', 'Belarus'), ('BP', 'Solomon Islands'), ('BQ', 'Navassa Island'), ('BR', 'Brazil'), ('BT', 'Bhutan'), ('BU', 'Bulgaria'), ('BV', 'Bouvet Island'), ('BX', 'Brunei'), ('BY', 'Burundi'), ('CA', 'Canada'), ('CB', 'Cambodia'), ('CD', 'Chad'), ('CE', 'Sri Lanka'), ('CF', 'Congo, Republic of the'), ('CG', 'Congo, Democratic Republic of the'), ('CH', 'China'), ('CI', 'Chile'), ('CJ', 'Cayman Islands'), ('CK', 'Cocos (Keeling) Islands'), ('CM', 'Cameroon'), ('CN', 'Comoros'), ('CO', 'Colombia'), ('CQ', 'Northern Mariana Islands'), ('CR', 'Coral Sea Islands'), ('CS', 'Costa Rica'), ('CT', 'Central African Republic'), ('CU', 'Cuba'), ('CV', 'Cabo Verde'), ('CW', 'Cook Islands'), ('CY', 'Cyprus'), ('DA', 'Denmark'), ('DJ', 'Djibouti'), ('DO', 'Dominica'), ('DR', 'Dominican Republic'), ('DX', 'Dhekelia'), ('EC', 'Ecuador'), ('EE', 'European Union'), ('EG', 'Egypt'), ('EI', 'Ireland'), ('EK', 'Equatorial Guinea'), ('EN', 'Estonia'), ('ER', 'Eritrea'), ('ES', 'El Salvador'), ('ET', 'Ethiopia'), ('EZ', 'Czechia'), ('FI', 'Finland'), ('FJ', 'Fiji'), ('FK', 'Falkland Islands (Islas Malvinas)'), ('FM', 'Micronesia, Federated States of'), ('FO', 'Faroe Islands'), ('FP', 'French Polynesia'), ('FR', 'France'), ('FS', 'French Southern and Antarctic Lands'), ('GA', 'Gambia, The'), ('GB', 'Gabon'), ('GG', 'Georgia'), ('GH', 'Ghana'), ('GI', 'Gibraltar'), ('GJ', 'Grenada'), ('GK', 'Guernsey'), ('GL', 'Greenland'), ('GM', 'Germany'), ('GQ', 'Guam'), ('GR', 'Greece'), ('GT', 'Guatemala'), ('GV', 'Guinea'), ('GY', 'Guyana'), ('HA', 'Haiti'), ('HK', 'Hong Kong'), ('HM', 'Heard Island and McDonald Islands'), ('HO', 'Honduras'), ('HR', 'Croatia'), ('HU', 'Hungary'), ('IC', 'Iceland'), ('ID', 'Indonesia'), ('IM', 'Isle of Man'), ('IN', 'India'), ('IO', 'British Indian Ocean Territory'), ('IP', 'Clipperton Island'), ('IR', 'Iran'), ('IS', 'Israel'), ('IT', 'Italy'), ('IV', \"Cote d'Ivoire\"), ('IZ', 'Iraq'), ('JA', 'Japan'), ('JE', 'Jersey'), ('JM', 'Jamaica'), ('JN', 'Jan Mayen'), ('JO', 'Jordan'), ('KE', 'Kenya'), ('KG', 'Kyrgyzstan'), ('KN', 'Korea, North'), ('KR', 'Kiribati'), ('KS', 'Korea, South'), ('KT', 'Christmas Island'), ('KU', 'Kuwait'), ('KV', 'Kosovo'), ('KZ', 'Kazakhstan'), ('LA', 'Laos'), ('LE', 'Lebanon'), ('LG', 'Latvia'), ('LH', 'Lithuania'), ('LI', 'Liberia'), ('LO', 'Slovakia'), ('LS', 'Liechtenstein'), ('LT', 'Lesotho'), ('LU', 'Luxembourg'), ('LY', 'Libya'), ('MA', 'Madagascar'), ('MC', 'Macau'), ('MD', 'Moldova'), ('MG', 'Mongolia'), ('MH', 'Montserrat'), ('MI', 'Malawi'), ('MJ', 'Montenegro'), ('MK', 'Macedonia'), ('ML', 'Mali'), ('MN', 'Monaco'), ('MO', 'Morocco'), ('MP', 'Mauritius'), ('MR', 'Mauritania'), ('MT', 'Malta'), ('MU', 'Oman'), ('MV', 'Maldives'), ('MX', 'Mexico'), ('MY', 'Malaysia'), ('MZ', 'Mozambique'), ('NC', 'New Caledonia'), ('NE', 'Niue'), ('NF', 'Norfolk Island'), ('NG', 'Niger'), ('NH', 'Vanuatu'), ('NI', 'Nigeria'), ('NL', 'Netherlands'), ('NN', 'Sint Maarten'), ('NO', 'Norway'), ('NP', 'Nepal'), ('NR', 'Nauru'), ('NS', 'Suriname'), ('NU', 'Nicaragua'), ('NZ', 'New Zealand'), ('OD', 'South Sudan'), ('PA', 'Paraguay'), ('PC', 'Pitcairn Islands'), ('PE', 'Peru'), ('PK', 'Pakistan'), ('PL', 'Poland'), ('PM', 'Panama'), ('PO', 'Portugal'), ('PP', 'Papua New Guinea'), ('PS', 'Palau'), ('PU', 'Guinea-Bissau'), ('QA', 'Qatar'), ('RI', 'Serbia'), ('RM', 'Marshall Islands'), ('RN', 'Saint Martin'), ('RO', 'Romania'), ('RP', 'Philippines'), ('RQ', 'Puerto Rico'), ('RS', 'Russia'), ('RW', 'Rwanda'), ('SA', 'Saudi Arabia'), ('SB', 'Saint Pierre and Miquelon'), ('SC', 'Saint Kitts and Nevis'), ('SE', 'Seychelles'), ('SF', 'South Africa'), ('SG', 'Senegal'), ('SH', 'Saint Helena, Ascension, and Tristan da Cunha'), ('SI', 'Slovenia'), ('SL', 'Sierra Leone'), ('SM', 'San Marino'), ('SN', 'Singapore'), ('SO', 'Somalia'), ('SP', 'Spain'), ('ST', 'Saint Lucia'), ('SU', 'Sudan'), ('SV', 'Svalbard'), ('SW', 'Sweden'), ('SX', 'South Georgia and South Sandwich Islands'), ('SY', 'Syria'), ('SZ', 'Switzerland'), ('TB', 'Saint Barthelemy'), ('TD', 'Trinidad and Tobago'), ('TH', 'Thailand'), ('TI', 'Tajikistan'), ('TK', 'Turks and Caicos Islands'), ('TL', 'Tokelau'), ('TN', 'Tonga'), ('TO', 'Togo'), ('TP', 'Sao Tome and Principe'), ('TS', 'Tunisia'), ('TT', 'Timor-Leste'), ('TU', 'Turkey'), ('TV', 'Tuvalu'), ('TW', 'Taiwan'), ('TX', 'Turkmenistan'), ('TZ', 'Tanzania'), ('UC', 'Curacao'), ('UG', 'Uganda'), ('UK', 'United Kingdom'), ('UM', 'United States Pacific Island Wildlife Refuges'), ('UP', 'Ukraine'), ('US', 'United States'), ('UV', 'Burkina Faso'), ('UY', 'Uruguay'), ('UZ', 'Uzbekistan'), ('VC', 'Saint Vincent and the Grenadines'), ('VE', 'Venezuela'), ('VI', 'British Virgin Islands'), ('VM', 'Vietnam'), ('VQ', 'Virgin Islands'), ('VT', 'Holy See (Vatican City)'), ('WA', 'Namibia'), ('WF', 'Wallis and Futuna'), ('WI', 'Western Sahara'), ('WQ', 'Wake Island'), ('WS', 'Samoa'), ('WZ', 'Eswatini'), ('YM', 'Yemen'), ('ZA', 'Zambia'), ('ZI', 'Zimbabwe')])\n"
     ]
    }
   ],
   "source": [
    "html = bs(urllib.request.urlopen(\"https://www.cia.gov/library/publications/the-world-factbook/docs/flagsoftheworld.html\"), \"lxml\")\n",
    "\n",
    "div_names = [div.getText() for div in html.find_all(\"div\", attrs={\"class\": \"flag-description\"})]\n",
    "flags = [div.find(\"img\")[\"src\"][-11:-9] for div in html.find_all(\"div\", attrs={\"class\": \"flag-image\"})]\n",
    "map = {flags[i]: div_names[i] for i in range(len(flags))}\n",
    "map = collections.OrderedDict(sorted(map.items()))\n",
    "print(map)"
   ]
  },
  {
   "cell_type": "code",
   "execution_count": 21,
   "metadata": {},
   "outputs": [
    {
     "name": "stdout",
     "output_type": "stream",
     "text": [
      "                Country   Pixel 1   Pixel 2   Pixel 3   Pixel 4   Pixel 5  \\\n",
      "0                 Aruba  0.301961  0.301961  0.301961  0.301961  0.301961   \n",
      "1   Antigua and Barbuda  0.117647  0.000000  0.000000  0.000000  0.000000   \n",
      "2  United Arab Emirates  0.745098  0.745098  0.745098  0.745098  0.745098   \n",
      "3           Afghanistan  0.000000  0.000000  0.000000  0.000000  0.000000   \n",
      "4               Algeria  0.000000  0.000000  0.000000  0.000000  0.000000   \n",
      "\n",
      "    Pixel 6   Pixel 7   Pixel 8   Pixel 9     ...      Pixel 2491  Pixel 2492  \\\n",
      "0  0.301961  0.301961  0.301961  0.301961     ...        0.301961    0.301961   \n",
      "1  0.000000  0.000000  0.000000  0.000000     ...        0.745098    0.745098   \n",
      "2  0.745098  0.745098  0.745098  0.745098     ...        0.000000    0.000000   \n",
      "3  0.000000  0.000000  0.000000  0.000000     ...        0.066667    0.066667   \n",
      "4  0.000000  0.000000  0.000000  0.000000     ...        1.000000    1.000000   \n",
      "\n",
      "   Pixel 2493  Pixel 2494  Pixel 2495  Pixel 2496  Pixel 2497  Pixel 2498  \\\n",
      "0    0.301961    0.301961    0.301961    0.301961    0.301961    0.301961   \n",
      "1    0.745098    0.745098    0.745098    0.745098    0.745098    0.745098   \n",
      "2    0.000000    0.000000    0.000000    0.000000    0.000000    0.000000   \n",
      "3    0.066667    0.066667    0.066667    0.066667    0.066667    0.066667   \n",
      "4    1.000000    1.000000    1.000000    1.000000    1.000000    1.000000   \n",
      "\n",
      "   Pixel 2499  Pixel 2500  \n",
      "0    0.301961    0.301961  \n",
      "1    0.745098    0.745098  \n",
      "2    0.000000    0.000000  \n",
      "3    0.066667    0.066667  \n",
      "4    1.000000    1.000000  \n",
      "\n",
      "[5 rows x 2501 columns]\n"
     ]
    },
    {
     "data": {
      "image/png": "[encoded data removed]",
      "text/plain": [
       "<matplotlib.figure.Figure at 0x1a25a2b438>"
      ]
     },
     "metadata": {},
     "output_type": "display_data"
    }
   ],
   "source": [
    "df = pd.DataFrame({\"Country\": [val for key, val in map.items()]})\n",
    "\n",
    "for i in range(img_dimension**2):\n",
    "    pixels = [images[x][int(i/img_dimension)][i%img_dimension] for x in range(len(images))]\n",
    "    df[\"Pixel \" + str(i + 1)] = np.array(pixels) / 255.0\n",
    "print(df.head())\n",
    "plt.imshow(images[100])\n",
    "plt.show()"
   ]
  },
  {
   "cell_type": "code",
   "execution_count": 22,
   "metadata": {},
   "outputs": [],
   "source": [
    "# If you're creating model for first time\n",
    "\n",
    "# model = svm.SVC(gamma=0.001, C=1000)\n",
    "# x = df[df.columns.values[1:]]\n",
    "# y = df.Country\n",
    "# model.fit(x, y)\n",
    "# file = open(\"/Users/rohitneppalli/Downloads/svm_model\", \"wb\")\n",
    "# pickle.dump(model, file)\n",
    "# file.close()\n",
    "\n",
    "# Otherwise, load in model\n",
    "file = open(\"/Users/rohitneppalli/Downloads/svm_model\", \"rb\")\n",
    "model = pickle.load(file)"
   ]
  },
  {
   "cell_type": "code",
   "execution_count": 24,
   "metadata": {},
   "outputs": [
    {
     "name": "stdout",
     "output_type": "stream",
     "text": [
      "['Germany']\n"
     ]
    }
   ],
   "source": [
    "img = \"/Users/rohitneppalli/Downloads/ge.png\"\n",
    "img_array = np.array(cv2.resize(mpimg.imread(img, 0), (img_dimension, img_dimension)))[:, :, 0]\n",
    "pixels = [img_array[int(i/img_dimension)][i % img_dimension] for i in range(img_dimension**2)]\n",
    "pixels = np.array(pixels) / 255.0\n",
    "\n",
    "print(model.predict(pixels.reshape(-1, img_dimension**2)))"
   ]
  },
  {
   "cell_type": "code",
   "execution_count": null,
   "metadata": {},
   "outputs": [],
   "source": []
  }
 ],
 "metadata": {
  "kernelspec": {
   "display_name": "Python 3",
   "language": "python",
   "name": "python3"
  },
  "language_info": {
   "codemirror_mode": {
    "name": "ipython",
    "version": 3
   },
   "file_extension": ".py",
   "mimetype": "text/x-python",
   "name": "python",
   "nbconvert_exporter": "python",
   "pygments_lexer": "ipython3",
   "version": "3.6.4"
  }
 },
 "nbformat": 4,
 "nbformat_minor": 2
}
